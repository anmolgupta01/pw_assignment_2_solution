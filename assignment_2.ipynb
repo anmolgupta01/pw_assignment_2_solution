{
 "cells": [
  {
   "cell_type": "markdown",
   "id": "b3221924",
   "metadata": {},
   "source": [
    "Q1. How do you comment code in Python? What are the different types of comments?"
   ]
  },
  {
   "cell_type": "markdown",
   "id": "6c6b0d19",
   "metadata": {},
   "source": [
    "Answer] There are three ways to comment code in python by using [i] # for single line comment ,[ii] '''   ''' for multiline comment and [iii] \"\"\"   \"\"\" for multiline comment"
   ]
  },
  {
   "cell_type": "code",
   "execution_count": 11,
   "id": "2ab106a6",
   "metadata": {
    "scrolled": false
   },
   "outputs": [
    {
     "data": {
      "text/plain": [
       "' it is a multi line comment next line \\nnext line '"
      ]
     },
     "execution_count": 11,
     "metadata": {},
     "output_type": "execute_result"
    }
   ],
   "source": [
    "#it is a single line comment \n",
    "\n",
    "''' it is a multi line comment \n",
    "next line '''\n",
    "\n",
    "\"\"\" it is a multi line comment next line \n",
    "next line \"\"\""
   ]
  },
  {
   "cell_type": "markdown",
   "id": "ce240a48",
   "metadata": {},
   "source": [
    "Q2. What are variables in Python? How do you declare and assign values to variables?"
   ]
  },
  {
   "cell_type": "markdown",
   "id": "ba0f7e31",
   "metadata": {},
   "source": [
    "Answer] Variable are the name given to any int,char,float,list,dictionary,tupple or any data structure.Variables are used to store data values. They act as named containers that can hold various types of data, such as numbers, strings, lists, dictionaries, or custom objects. Unlike some other programming languages, you don't need to explicitly declare variables in Python, they are created automatically when you assign a value to them."
   ]
  },
  {
   "cell_type": "code",
   "execution_count": 13,
   "id": "d1f5a2d4",
   "metadata": {},
   "outputs": [],
   "source": [
    "# Integer variable\n",
    "age = 25\n",
    "\n",
    "# String variable\n",
    "name = \"Anmol Gupta\"\n",
    "\n",
    "# Float variable\n",
    "pi_value = 3.14\n",
    "\n",
    "# Boolean variable\n",
    "is_student = True\n",
    "\n",
    "# List variable\n",
    "fruits = [\"apple\", \"banana\", \"orange\"]\n",
    "\n",
    "# Dictionary variable\n",
    "person = {\"name\": \"Alice\", \"age\": 30, \"city\": \"New York\"}"
   ]
  },
  {
   "cell_type": "markdown",
   "id": "74d972bc",
   "metadata": {},
   "source": [
    "Q3. How do you convert one data type to another in Python?"
   ]
  },
  {
   "cell_type": "markdown",
   "id": "5e6687c6",
   "metadata": {},
   "source": [
    "Answer] We can simply covert one data type to another by type casting or type conversion functions.It's important to note that not all conversions are possible or appropriate. For example, converting a string that doesn't represent a valid integer to an integer using int() will raise a ValueError. Similarly, trying to convert a string that doesn't represent a valid floating-point number to a float using float() will also raise a ValueError. "
   ]
  },
  {
   "cell_type": "code",
   "execution_count": 18,
   "id": "6f7f209a",
   "metadata": {},
   "outputs": [
    {
     "name": "stdout",
     "output_type": "stream",
     "text": [
      "<class 'float'>\n",
      "<class 'int'>\n"
     ]
    }
   ],
   "source": [
    "#example of typecasting\n",
    "#here we change float to int\n",
    "floatt = 3.14\n",
    "intt = int(floatt)\n",
    "print(type(floatt))\n",
    "print(type(intt))"
   ]
  },
  {
   "cell_type": "code",
   "execution_count": 21,
   "id": "816ad28f",
   "metadata": {},
   "outputs": [
    {
     "name": "stdout",
     "output_type": "stream",
     "text": [
      "<class 'int'>\n",
      "<class 'str'>\n"
     ]
    }
   ],
   "source": [
    "#conversion of integer to string\n",
    "a = 1\n",
    "print(type(a))\n",
    "b = str(a)\n",
    "print(type(b))"
   ]
  },
  {
   "cell_type": "markdown",
   "id": "4f9ce473",
   "metadata": {},
   "source": [
    "Q4. How do you write and execute a Python script from the command line?"
   ]
  },
  {
   "cell_type": "markdown",
   "id": "20074251",
   "metadata": {},
   "source": [
    "Answer] To write and execute a Python script from the command line, follow these steps:\n",
    "\n",
    "Write the Python Script: Create a new text file and save it with a .py extension. This extension indicates that the file contains Python code. You can use any text editor or code editor of your choice to write the script.\n",
    "For example, let's create a simple Python script called hello.py that prints \"Hello, World!\" to the console:\n",
    "\n",
    "# hello.py\n",
    "print(\"Hello, World!\")\n",
    "Open the Command Line Interface: Depending on your operating system, open the command prompt (Windows) or terminal (macOS/Linux).\n",
    "\n",
    "Navigate to the Script Directory: Use the cd (change directory) command to navigate to the directory where you saved your Python script. For example, if your script is saved in the Documents folder, you can use:\n",
    "\n",
    "cd Documents\n",
    "Execute the Python Script: To run the Python script, simply type python followed by the name of your script file. For our example, we would use:\n",
    "\n",
    "python hello.py\n",
    "Press Enter, and the Python script will be executed. The output, \"Hello, World!\" in this case, will be displayed in the command line interface."
   ]
  },
  {
   "cell_type": "code",
   "execution_count": null,
   "id": "828fd0bc",
   "metadata": {},
   "outputs": [],
   "source": []
  },
  {
   "cell_type": "markdown",
   "id": "69d160e1",
   "metadata": {},
   "source": [
    "Q5. Given a list my_list = [1, 2, 3, 4, 5], write the code to slice the list and obtain the sub-list [2, 3]."
   ]
  },
  {
   "cell_type": "code",
   "execution_count": 32,
   "id": "2ef3237b",
   "metadata": {},
   "outputs": [
    {
     "data": {
      "text/plain": [
       "[2, 3]"
      ]
     },
     "execution_count": 32,
     "metadata": {},
     "output_type": "execute_result"
    }
   ],
   "source": [
    "my_list = [1,2,3,4,5]\n",
    "my_list[1:3]\n"
   ]
  },
  {
   "cell_type": "code",
   "execution_count": 33,
   "id": "f1ae6317",
   "metadata": {},
   "outputs": [
    {
     "data": {
      "text/plain": [
       "[2, 3]"
      ]
     },
     "execution_count": 33,
     "metadata": {},
     "output_type": "execute_result"
    }
   ],
   "source": [
    "my_list = [1,2,3,4,5]\n",
    "#by using negative indexing\n",
    "my_list[-4:-2]"
   ]
  },
  {
   "cell_type": "markdown",
   "id": "014c13b5",
   "metadata": {},
   "source": [
    "Q6. What is a complex number in mathematics, and how is it represented in Python?"
   ]
  },
  {
   "cell_type": "markdown",
   "id": "d9496aa1",
   "metadata": {},
   "source": [
    "Answer] A complex number in mathematics is that number that contain both real and imaginary part. for example\n",
    "2+1i\n",
    "here 2 is real part and 1i is imaginary part.\n",
    "In Python, complex numbers are fully supported as a built-in data type. To represent a complex number, we can use the j suffix to indicate the imaginary part. Here's an example:"
   ]
  },
  {
   "cell_type": "code",
   "execution_count": 34,
   "id": "30b9eae4",
   "metadata": {},
   "outputs": [
    {
     "name": "stdout",
     "output_type": "stream",
     "text": [
      "z1: (3+4j)\n",
      "z2: (1-2j)\n",
      "Addition: (4+2j)\n",
      "Subtraction: (2+6j)\n",
      "Multiplication: (11-2j)\n",
      "Division: (-1+2j)\n"
     ]
    }
   ],
   "source": [
    "# Representing complex numbers in Python\n",
    "z1 = 3 + 4j\n",
    "z2 = 1 - 2j\n",
    "\n",
    "# Performing arithmetic operations with complex numbers\n",
    "result_addition = z1 + z2\n",
    "result_subtraction = z1 - z2\n",
    "result_multiplication = z1 * z2\n",
    "result_division = z1 / z2\n",
    "\n",
    "print(\"z1:\", z1)\n",
    "print(\"z2:\", z2)\n",
    "print(\"Addition:\", result_addition)\n",
    "print(\"Subtraction:\", result_subtraction)\n",
    "print(\"Multiplication:\", result_multiplication)\n",
    "print(\"Division:\", result_division)\n"
   ]
  },
  {
   "cell_type": "markdown",
   "id": "95103712",
   "metadata": {},
   "source": [
    "Q7. What is the correct way to declare a variable named age and assign the value 25 to it?"
   ]
  },
  {
   "cell_type": "markdown",
   "id": "29a40ca2",
   "metadata": {},
   "source": [
    "Answer] The correct way to declare a variable named age and assign the value 25 to it in Python is to use the assignment operator (=). Python does not require explicit variable declaration like some other programming languages. we can create the variable age and assign the value 25 in a single line as follows:"
   ]
  },
  {
   "cell_type": "code",
   "execution_count": 35,
   "id": "d0e273b2",
   "metadata": {},
   "outputs": [
    {
     "name": "stdout",
     "output_type": "stream",
     "text": [
      "25\n"
     ]
    }
   ],
   "source": [
    "age = 25\n",
    "print(age)"
   ]
  },
  {
   "cell_type": "markdown",
   "id": "50c9e603",
   "metadata": {},
   "source": [
    "Q8. Declare a variable named price and assign the value 9.99 to it. What data type does this variable \n",
    "belong to?\n",
    "Answer] It will belongs to Float"
   ]
  },
  {
   "cell_type": "code",
   "execution_count": 37,
   "id": "c428de59",
   "metadata": {},
   "outputs": [
    {
     "name": "stdout",
     "output_type": "stream",
     "text": [
      "<class 'float'>\n"
     ]
    }
   ],
   "source": [
    "price = 9.99\n",
    "print(type(price))"
   ]
  },
  {
   "cell_type": "markdown",
   "id": "35e68d2c",
   "metadata": {},
   "source": [
    "Q9. Create a variable named name and assign your full name to it as a string. How would you print the \n",
    "value of this variable?\n",
    "Answer] We can simply print it by using print function and giving the argument of string name."
   ]
  },
  {
   "cell_type": "code",
   "execution_count": 41,
   "id": "9829e154",
   "metadata": {},
   "outputs": [
    {
     "name": "stdout",
     "output_type": "stream",
     "text": [
      "Anmol gupta\n"
     ]
    }
   ],
   "source": [
    "name = 'Anmol gupta'\n",
    "print(name)"
   ]
  },
  {
   "cell_type": "markdown",
   "id": "2a7f4a61",
   "metadata": {},
   "source": [
    "Q10. Given the string \"Hello, World!\", extract the substring \"World\""
   ]
  },
  {
   "cell_type": "code",
   "execution_count": 43,
   "id": "19939da5",
   "metadata": {},
   "outputs": [
    {
     "data": {
      "text/plain": [
       "'World'"
      ]
     },
     "execution_count": 43,
     "metadata": {},
     "output_type": "execute_result"
    }
   ],
   "source": [
    "strng = \"Hello, World!\"\n",
    "strng[7:12]"
   ]
  },
  {
   "cell_type": "markdown",
   "id": "442bd628",
   "metadata": {},
   "source": [
    "Q11. Create a variable named \"is_student\" and assign it a boolean value indicating whether you are \n",
    "currently a student or not"
   ]
  },
  {
   "cell_type": "code",
   "execution_count": null,
   "id": "2c022c59",
   "metadata": {},
   "outputs": [],
   "source": [
    "is_student = True"
   ]
  }
 ],
 "metadata": {
  "kernelspec": {
   "display_name": "Python 3 (ipykernel)",
   "language": "python",
   "name": "python3"
  },
  "language_info": {
   "codemirror_mode": {
    "name": "ipython",
    "version": 3
   },
   "file_extension": ".py",
   "mimetype": "text/x-python",
   "name": "python",
   "nbconvert_exporter": "python",
   "pygments_lexer": "ipython3",
   "version": "3.11.4"
  }
 },
 "nbformat": 4,
 "nbformat_minor": 5
}
